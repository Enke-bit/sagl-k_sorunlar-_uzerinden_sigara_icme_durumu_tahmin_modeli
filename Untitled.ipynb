{
 "cells": [
  {
   "cell_type": "code",
   "execution_count": 41,
   "id": "f43ae487",
   "metadata": {},
   "outputs": [],
   "source": [
    "import pandas as pd\n",
    "import matplotlib.pyplot as plt\n",
    "from sklearn.preprocessing import MinMaxScaler, LabelEncoder\n",
    "from sklearn.model_selection import train_test_split\n",
    "from keras.models import Sequential\n",
    "from keras.layers import Dense\n",
    "from keras.utils import to_categorical"
   ]
  },
  {
   "cell_type": "code",
   "execution_count": 15,
   "id": "a73e99d7",
   "metadata": {},
   "outputs": [],
   "source": [
    "# Veri kümesini yükle\n",
    "file_path = r'C:\\Users\\realb\\Desktop\\sigara içme durmu üzerinden tansyon, kalp rahatsızlığıhesaplayan model/smoking_health_data_final.csv'\n",
    "data = pd.read_csv(file_path)"
   ]
  },
  {
   "cell_type": "code",
   "execution_count": 16,
   "id": "5d60f465",
   "metadata": {},
   "outputs": [],
   "source": [
    "# Eksik değerleri 'cigs_per_day' ve 'chol' ortalamalarıyla doldurun\n",
    "data['cigs_per_day'].fillna(data['cigs_per_day'].mean(), inplace=True)\n",
    "data['chol'].fillna(data['chol'].mean(), inplace=True)"
   ]
  },
  {
   "cell_type": "code",
   "execution_count": 17,
   "id": "ef04b3fe",
   "metadata": {},
   "outputs": [],
   "source": [
    "# Kategorik sütunları sayısal değerlere dönüştürün\n",
    "data['sex'] = data['sex'].map({'male': 0, 'female': 1})\n",
    "data['current_smoker'] = data['current_smoker'].map({'yes': 1, 'no': 0})"
   ]
  },
  {
   "cell_type": "code",
   "execution_count": 18,
   "id": "191d1ca2",
   "metadata": {},
   "outputs": [],
   "source": [
    "# 'cigs_per_day'ı kategorilere ayırın\n",
    "# Örnek: Sigara içmeyen (0), Hafif sigara içen (1-5), Orta derecede sigara içen (6-10), Ağır sigara içen (>10)\n",
    "bins = [0, 1, 5, 10, float('inf')]\n",
    "labels = ['Non-smoker', 'Light smoker', 'Moderate smoker', 'Heavy smoker']\n",
    "data['cigs_per_day_cat'] = pd.cut(data['cigs_per_day'], bins=bins, labels=labels, right=False)"
   ]
  },
  {
   "cell_type": "code",
   "execution_count": 19,
   "id": "7d69657f",
   "metadata": {},
   "outputs": [],
   "source": [
    "# Kategorik etiketleri kodlayın\n",
    "label_encoder = LabelEncoder()\n",
    "data['cigs_per_day_cat'] = label_encoder.fit_transform(data['cigs_per_day_cat'])"
   ]
  },
  {
   "cell_type": "code",
   "execution_count": 22,
   "id": "8a7d0455",
   "metadata": {},
   "outputs": [],
   "source": [
    "# Verileri normalleştirin (isteğe bağlı ancak sinir ağları için önerilir)\n",
    "scaler = MinMaxScaler()\n",
    "data[['age', 'heart_rate', 'chol']] = scaler.fit_transform(data[['age', 'heart_rate', 'chol']])"
   ]
  },
  {
   "cell_type": "code",
   "execution_count": 20,
   "id": "60918aec",
   "metadata": {},
   "outputs": [],
   "source": [
    "# Verileri özelliklere (X) ve hedefe (y) bölün\n",
    "X = data[['age', 'sex', 'current_smoker', 'chol', 'heart_rate']]\n",
    "y = to_categorical(data['cigs_per_day_cat'])"
   ]
  },
  {
   "cell_type": "code",
   "execution_count": 21,
   "id": "62083313",
   "metadata": {},
   "outputs": [],
   "source": [
    "# Verileri eğitim ve test setlerine ayırın\n",
    "X_train, X_test, y_train, y_test = train_test_split(X, y, test_size=0.2, random_state=42)"
   ]
  },
  {
   "cell_type": "code",
   "execution_count": 32,
   "id": "3ec2ea72",
   "metadata": {},
   "outputs": [],
   "source": [
    "# Sınıflandırma için sinir ağı modelini oluşturun\n",
    "model = Sequential()\n",
    "model.add(Dense(1000, input_dim=X_train.shape[1], activation='relu'))\n",
    "model.add(Dense(500, activation='relu'))\n",
    "model.add(Dense(y.shape[1], activation='softmax'))  # Softmax aktivasyonuyla çıktı katmanı\n",
    "\n",
    "model.compile(optimizer='adam', loss='categorical_crossentropy', metrics=['accuracy'])"
   ]
  },
  {
   "cell_type": "code",
   "execution_count": 33,
   "id": "e72a7f09",
   "metadata": {},
   "outputs": [
    {
     "name": "stdout",
     "output_type": "stream",
     "text": [
      "Epoch 1/100\n",
      "250/250 [==============================] - 1s 3ms/step - loss: 2.7807 - accuracy: 0.4972 - val_loss: 1.5918 - val_accuracy: 0.4215\n",
      "Epoch 2/100\n",
      "250/250 [==============================] - 1s 2ms/step - loss: 0.8737 - accuracy: 0.7392 - val_loss: 0.3997 - val_accuracy: 0.8990\n",
      "Epoch 3/100\n",
      "250/250 [==============================] - 1s 2ms/step - loss: 0.6283 - accuracy: 0.8321 - val_loss: 0.4311 - val_accuracy: 0.8221\n",
      "Epoch 4/100\n",
      "250/250 [==============================] - 1s 2ms/step - loss: 0.5054 - accuracy: 0.8542 - val_loss: 0.3850 - val_accuracy: 0.9006\n",
      "Epoch 5/100\n",
      "250/250 [==============================] - 1s 2ms/step - loss: 0.4279 - accuracy: 0.8706 - val_loss: 0.4995 - val_accuracy: 0.8990\n",
      "Epoch 6/100\n",
      "250/250 [==============================] - 1s 2ms/step - loss: 0.4319 - accuracy: 0.8638 - val_loss: 0.3198 - val_accuracy: 0.9006\n",
      "Epoch 7/100\n",
      "250/250 [==============================] - 1s 2ms/step - loss: 0.4360 - accuracy: 0.8678 - val_loss: 0.3108 - val_accuracy: 0.8990\n",
      "Epoch 8/100\n",
      "250/250 [==============================] - 1s 2ms/step - loss: 0.3809 - accuracy: 0.8746 - val_loss: 0.3132 - val_accuracy: 0.8990\n",
      "Epoch 9/100\n",
      "250/250 [==============================] - 1s 2ms/step - loss: 0.3704 - accuracy: 0.8786 - val_loss: 0.3232 - val_accuracy: 0.8990\n",
      "Epoch 10/100\n",
      "250/250 [==============================] - 1s 2ms/step - loss: 0.4302 - accuracy: 0.8586 - val_loss: 0.3504 - val_accuracy: 0.8942\n",
      "Epoch 11/100\n",
      "250/250 [==============================] - 1s 2ms/step - loss: 0.3725 - accuracy: 0.8778 - val_loss: 0.3333 - val_accuracy: 0.8974\n",
      "Epoch 12/100\n",
      "250/250 [==============================] - 1s 2ms/step - loss: 0.3623 - accuracy: 0.8762 - val_loss: 0.3489 - val_accuracy: 0.8990\n",
      "Epoch 13/100\n",
      "250/250 [==============================] - 1s 2ms/step - loss: 0.3601 - accuracy: 0.8798 - val_loss: 0.3073 - val_accuracy: 0.8990\n",
      "Epoch 14/100\n",
      "250/250 [==============================] - 1s 2ms/step - loss: 0.3660 - accuracy: 0.8742 - val_loss: 0.3545 - val_accuracy: 0.8974\n",
      "Epoch 15/100\n",
      "250/250 [==============================] - 1s 2ms/step - loss: 0.3600 - accuracy: 0.8790 - val_loss: 0.3093 - val_accuracy: 0.8990\n",
      "Epoch 16/100\n",
      "250/250 [==============================] - 1s 2ms/step - loss: 0.3555 - accuracy: 0.8798 - val_loss: 0.3507 - val_accuracy: 0.8990\n",
      "Epoch 17/100\n",
      "250/250 [==============================] - 1s 2ms/step - loss: 0.3528 - accuracy: 0.8798 - val_loss: 0.3166 - val_accuracy: 0.8990\n",
      "Epoch 18/100\n",
      "250/250 [==============================] - 1s 2ms/step - loss: 0.3550 - accuracy: 0.8794 - val_loss: 0.3374 - val_accuracy: 0.8974\n",
      "Epoch 19/100\n",
      "250/250 [==============================] - 1s 2ms/step - loss: 0.3534 - accuracy: 0.8818 - val_loss: 0.3136 - val_accuracy: 0.8990\n",
      "Epoch 20/100\n",
      "250/250 [==============================] - 1s 2ms/step - loss: 0.3741 - accuracy: 0.8758 - val_loss: 0.4017 - val_accuracy: 0.8990\n",
      "Epoch 21/100\n",
      "250/250 [==============================] - 1s 2ms/step - loss: 0.3711 - accuracy: 0.8762 - val_loss: 0.3110 - val_accuracy: 0.8990\n",
      "Epoch 22/100\n",
      "250/250 [==============================] - 1s 2ms/step - loss: 0.3622 - accuracy: 0.8774 - val_loss: 0.3044 - val_accuracy: 0.8990\n",
      "Epoch 23/100\n",
      "250/250 [==============================] - 1s 2ms/step - loss: 0.3501 - accuracy: 0.8798 - val_loss: 0.3186 - val_accuracy: 0.8990\n",
      "Epoch 24/100\n",
      "250/250 [==============================] - 1s 2ms/step - loss: 0.3579 - accuracy: 0.8802 - val_loss: 0.3067 - val_accuracy: 0.8990\n",
      "Epoch 25/100\n",
      "250/250 [==============================] - 1s 2ms/step - loss: 0.3518 - accuracy: 0.8810 - val_loss: 0.3090 - val_accuracy: 0.8990\n",
      "Epoch 26/100\n",
      "250/250 [==============================] - 1s 2ms/step - loss: 0.3489 - accuracy: 0.8806 - val_loss: 0.3050 - val_accuracy: 0.8990\n",
      "Epoch 27/100\n",
      "250/250 [==============================] - 1s 2ms/step - loss: 0.3638 - accuracy: 0.8766 - val_loss: 0.3045 - val_accuracy: 0.8990\n",
      "Epoch 28/100\n",
      "250/250 [==============================] - 1s 2ms/step - loss: 0.3533 - accuracy: 0.8806 - val_loss: 0.3037 - val_accuracy: 0.8990\n",
      "Epoch 29/100\n",
      "250/250 [==============================] - 1s 3ms/step - loss: 0.3808 - accuracy: 0.8742 - val_loss: 0.3010 - val_accuracy: 0.8990\n",
      "Epoch 30/100\n",
      "250/250 [==============================] - 1s 3ms/step - loss: 0.3455 - accuracy: 0.8810 - val_loss: 0.3029 - val_accuracy: 0.8990\n",
      "Epoch 31/100\n",
      "250/250 [==============================] - 1s 2ms/step - loss: 0.3456 - accuracy: 0.8810 - val_loss: 0.3144 - val_accuracy: 0.8990\n",
      "Epoch 32/100\n",
      "250/250 [==============================] - 1s 2ms/step - loss: 0.3485 - accuracy: 0.8814 - val_loss: 0.3391 - val_accuracy: 0.8990\n",
      "Epoch 33/100\n",
      "250/250 [==============================] - 1s 2ms/step - loss: 0.3471 - accuracy: 0.8814 - val_loss: 0.3070 - val_accuracy: 0.8990\n",
      "Epoch 34/100\n",
      "250/250 [==============================] - 1s 2ms/step - loss: 0.3422 - accuracy: 0.8814 - val_loss: 0.2987 - val_accuracy: 0.8990\n",
      "Epoch 35/100\n",
      "250/250 [==============================] - 1s 2ms/step - loss: 0.3408 - accuracy: 0.8814 - val_loss: 0.2967 - val_accuracy: 0.8990\n",
      "Epoch 36/100\n",
      "250/250 [==============================] - 1s 2ms/step - loss: 0.3493 - accuracy: 0.8798 - val_loss: 0.3269 - val_accuracy: 0.8942\n",
      "Epoch 37/100\n",
      "250/250 [==============================] - 1s 2ms/step - loss: 0.3433 - accuracy: 0.8810 - val_loss: 0.3174 - val_accuracy: 0.8958\n",
      "Epoch 38/100\n",
      "250/250 [==============================] - 1s 2ms/step - loss: 0.3419 - accuracy: 0.8814 - val_loss: 0.3148 - val_accuracy: 0.8990\n",
      "Epoch 39/100\n",
      "250/250 [==============================] - 1s 2ms/step - loss: 0.3610 - accuracy: 0.8778 - val_loss: 0.3784 - val_accuracy: 0.8926\n",
      "Epoch 40/100\n",
      "250/250 [==============================] - 1s 2ms/step - loss: 0.3504 - accuracy: 0.8786 - val_loss: 0.3134 - val_accuracy: 0.8990\n",
      "Epoch 41/100\n",
      "250/250 [==============================] - 1s 2ms/step - loss: 0.3504 - accuracy: 0.8790 - val_loss: 0.3056 - val_accuracy: 0.8990\n",
      "Epoch 42/100\n",
      "250/250 [==============================] - 1s 2ms/step - loss: 0.3427 - accuracy: 0.8810 - val_loss: 0.2957 - val_accuracy: 0.8990\n",
      "Epoch 43/100\n",
      "250/250 [==============================] - 1s 2ms/step - loss: 0.3470 - accuracy: 0.8806 - val_loss: 0.2954 - val_accuracy: 0.8990\n",
      "Epoch 44/100\n",
      "250/250 [==============================] - 1s 2ms/step - loss: 0.3407 - accuracy: 0.8814 - val_loss: 0.3183 - val_accuracy: 0.8990\n",
      "Epoch 45/100\n",
      "250/250 [==============================] - 1s 2ms/step - loss: 0.3450 - accuracy: 0.8810 - val_loss: 0.3547 - val_accuracy: 0.8926\n",
      "Epoch 46/100\n",
      "250/250 [==============================] - 1s 2ms/step - loss: 0.3465 - accuracy: 0.8810 - val_loss: 0.2982 - val_accuracy: 0.8974\n",
      "Epoch 47/100\n",
      "250/250 [==============================] - 1s 2ms/step - loss: 0.3425 - accuracy: 0.8814 - val_loss: 0.3384 - val_accuracy: 0.8990\n",
      "Epoch 48/100\n",
      "250/250 [==============================] - 1s 2ms/step - loss: 0.3438 - accuracy: 0.8810 - val_loss: 0.3151 - val_accuracy: 0.8990\n",
      "Epoch 49/100\n",
      "250/250 [==============================] - 1s 2ms/step - loss: 0.3463 - accuracy: 0.8810 - val_loss: 0.3009 - val_accuracy: 0.8958\n",
      "Epoch 50/100\n",
      "250/250 [==============================] - 1s 2ms/step - loss: 0.3402 - accuracy: 0.8814 - val_loss: 0.3093 - val_accuracy: 0.8990\n",
      "Epoch 51/100\n",
      "250/250 [==============================] - 1s 2ms/step - loss: 0.3526 - accuracy: 0.8802 - val_loss: 0.3187 - val_accuracy: 0.8990\n",
      "Epoch 52/100\n",
      "250/250 [==============================] - 1s 2ms/step - loss: 0.3715 - accuracy: 0.8734 - val_loss: 0.3007 - val_accuracy: 0.8990\n",
      "Epoch 53/100\n",
      "250/250 [==============================] - 1s 2ms/step - loss: 0.3370 - accuracy: 0.8810 - val_loss: 0.3096 - val_accuracy: 0.8990\n",
      "Epoch 54/100\n",
      "250/250 [==============================] - 1s 2ms/step - loss: 0.3367 - accuracy: 0.8810 - val_loss: 0.3162 - val_accuracy: 0.8990\n",
      "Epoch 55/100\n",
      "250/250 [==============================] - 1s 2ms/step - loss: 0.3392 - accuracy: 0.8814 - val_loss: 0.2995 - val_accuracy: 0.8990\n",
      "Epoch 56/100\n",
      "250/250 [==============================] - 1s 2ms/step - loss: 0.3379 - accuracy: 0.8802 - val_loss: 0.3053 - val_accuracy: 0.8990\n",
      "Epoch 57/100\n",
      "250/250 [==============================] - 1s 2ms/step - loss: 0.3383 - accuracy: 0.8810 - val_loss: 0.2988 - val_accuracy: 0.8990\n"
     ]
    },
    {
     "name": "stdout",
     "output_type": "stream",
     "text": [
      "Epoch 58/100\n",
      "250/250 [==============================] - 1s 2ms/step - loss: 0.3406 - accuracy: 0.8810 - val_loss: 0.3045 - val_accuracy: 0.8990\n",
      "Epoch 59/100\n",
      "250/250 [==============================] - 1s 2ms/step - loss: 0.3448 - accuracy: 0.8810 - val_loss: 0.2976 - val_accuracy: 0.8990\n",
      "Epoch 60/100\n",
      "250/250 [==============================] - 1s 3ms/step - loss: 0.3612 - accuracy: 0.8778 - val_loss: 0.3245 - val_accuracy: 0.8942\n",
      "Epoch 61/100\n",
      "250/250 [==============================] - 1s 2ms/step - loss: 0.3431 - accuracy: 0.8802 - val_loss: 0.2962 - val_accuracy: 0.8990\n",
      "Epoch 62/100\n",
      "250/250 [==============================] - 1s 2ms/step - loss: 0.3403 - accuracy: 0.8814 - val_loss: 0.3036 - val_accuracy: 0.8974\n",
      "Epoch 63/100\n",
      "250/250 [==============================] - 1s 2ms/step - loss: 0.3403 - accuracy: 0.8810 - val_loss: 0.2955 - val_accuracy: 0.8990\n",
      "Epoch 64/100\n",
      "250/250 [==============================] - 1s 2ms/step - loss: 0.3360 - accuracy: 0.8814 - val_loss: 0.3105 - val_accuracy: 0.8990\n",
      "Epoch 65/100\n",
      "250/250 [==============================] - 1s 2ms/step - loss: 0.3635 - accuracy: 0.8750 - val_loss: 0.3014 - val_accuracy: 0.8990\n",
      "Epoch 66/100\n",
      "250/250 [==============================] - 1s 2ms/step - loss: 0.3325 - accuracy: 0.8814 - val_loss: 0.3300 - val_accuracy: 0.8990\n",
      "Epoch 67/100\n",
      "250/250 [==============================] - 1s 2ms/step - loss: 0.3461 - accuracy: 0.8802 - val_loss: 0.2989 - val_accuracy: 0.8990\n",
      "Epoch 68/100\n",
      "250/250 [==============================] - 1s 2ms/step - loss: 0.3394 - accuracy: 0.8810 - val_loss: 0.3035 - val_accuracy: 0.8990\n",
      "Epoch 69/100\n",
      "250/250 [==============================] - 1s 2ms/step - loss: 0.3343 - accuracy: 0.8814 - val_loss: 0.2948 - val_accuracy: 0.8990\n",
      "Epoch 70/100\n",
      "250/250 [==============================] - 1s 2ms/step - loss: 0.3366 - accuracy: 0.8806 - val_loss: 0.3060 - val_accuracy: 0.8990\n",
      "Epoch 71/100\n",
      "250/250 [==============================] - 1s 2ms/step - loss: 0.3383 - accuracy: 0.8814 - val_loss: 0.2969 - val_accuracy: 0.8990\n",
      "Epoch 72/100\n",
      "250/250 [==============================] - 1s 2ms/step - loss: 0.3353 - accuracy: 0.8814 - val_loss: 0.3121 - val_accuracy: 0.8990\n",
      "Epoch 73/100\n",
      "250/250 [==============================] - 1s 2ms/step - loss: 0.3373 - accuracy: 0.8814 - val_loss: 0.3103 - val_accuracy: 0.8990\n",
      "Epoch 74/100\n",
      "250/250 [==============================] - 1s 2ms/step - loss: 0.3382 - accuracy: 0.8810 - val_loss: 0.2936 - val_accuracy: 0.8990\n",
      "Epoch 75/100\n",
      "250/250 [==============================] - 1s 2ms/step - loss: 0.3355 - accuracy: 0.8810 - val_loss: 0.2972 - val_accuracy: 0.8990\n",
      "Epoch 76/100\n",
      "250/250 [==============================] - 1s 2ms/step - loss: 0.3366 - accuracy: 0.8822 - val_loss: 0.2970 - val_accuracy: 0.8990\n",
      "Epoch 77/100\n",
      "250/250 [==============================] - 1s 2ms/step - loss: 0.3377 - accuracy: 0.8810 - val_loss: 0.3016 - val_accuracy: 0.8990\n",
      "Epoch 78/100\n",
      "250/250 [==============================] - 1s 2ms/step - loss: 0.3413 - accuracy: 0.8810 - val_loss: 0.2958 - val_accuracy: 0.8990\n",
      "Epoch 79/100\n",
      "250/250 [==============================] - 1s 2ms/step - loss: 0.3421 - accuracy: 0.8814 - val_loss: 0.2963 - val_accuracy: 0.8990\n",
      "Epoch 80/100\n",
      "250/250 [==============================] - 1s 2ms/step - loss: 0.3387 - accuracy: 0.8814 - val_loss: 0.2976 - val_accuracy: 0.8990\n",
      "Epoch 81/100\n",
      "250/250 [==============================] - 1s 2ms/step - loss: 0.3388 - accuracy: 0.8806 - val_loss: 0.2958 - val_accuracy: 0.8990\n",
      "Epoch 82/100\n",
      "250/250 [==============================] - 1s 2ms/step - loss: 0.3586 - accuracy: 0.8766 - val_loss: 0.3001 - val_accuracy: 0.8990\n",
      "Epoch 83/100\n",
      "250/250 [==============================] - 1s 2ms/step - loss: 0.3380 - accuracy: 0.8814 - val_loss: 0.3013 - val_accuracy: 0.8990\n",
      "Epoch 84/100\n",
      "250/250 [==============================] - 1s 2ms/step - loss: 0.3370 - accuracy: 0.8810 - val_loss: 0.2947 - val_accuracy: 0.8990\n",
      "Epoch 85/100\n",
      "250/250 [==============================] - 1s 2ms/step - loss: 0.3352 - accuracy: 0.8810 - val_loss: 0.3061 - val_accuracy: 0.8990\n",
      "Epoch 86/100\n",
      "250/250 [==============================] - 1s 2ms/step - loss: 0.3374 - accuracy: 0.8814 - val_loss: 0.3392 - val_accuracy: 0.8990\n",
      "Epoch 87/100\n",
      "250/250 [==============================] - 1s 2ms/step - loss: 0.3338 - accuracy: 0.8814 - val_loss: 0.3150 - val_accuracy: 0.8974\n",
      "Epoch 88/100\n",
      "250/250 [==============================] - 1s 3ms/step - loss: 0.3360 - accuracy: 0.8814 - val_loss: 0.3008 - val_accuracy: 0.8990\n",
      "Epoch 89/100\n",
      "250/250 [==============================] - 1s 3ms/step - loss: 0.3360 - accuracy: 0.8814 - val_loss: 0.2947 - val_accuracy: 0.8990\n",
      "Epoch 90/100\n",
      "250/250 [==============================] - 1s 3ms/step - loss: 0.3387 - accuracy: 0.8806 - val_loss: 0.3091 - val_accuracy: 0.8990\n",
      "Epoch 91/100\n",
      "250/250 [==============================] - 1s 2ms/step - loss: 0.3353 - accuracy: 0.8810 - val_loss: 0.3028 - val_accuracy: 0.8990\n",
      "Epoch 92/100\n",
      "250/250 [==============================] - 1s 2ms/step - loss: 0.3368 - accuracy: 0.8810 - val_loss: 0.3042 - val_accuracy: 0.8990\n",
      "Epoch 93/100\n",
      "250/250 [==============================] - 1s 2ms/step - loss: 0.3359 - accuracy: 0.8814 - val_loss: 0.2964 - val_accuracy: 0.8990\n",
      "Epoch 94/100\n",
      "250/250 [==============================] - 1s 2ms/step - loss: 0.3497 - accuracy: 0.8766 - val_loss: 0.3098 - val_accuracy: 0.9006\n",
      "Epoch 95/100\n",
      "250/250 [==============================] - 1s 2ms/step - loss: 0.3353 - accuracy: 0.8810 - val_loss: 0.2935 - val_accuracy: 0.8990\n",
      "Epoch 96/100\n",
      "250/250 [==============================] - 1s 2ms/step - loss: 0.3336 - accuracy: 0.8814 - val_loss: 0.2964 - val_accuracy: 0.8990\n",
      "Epoch 97/100\n",
      "250/250 [==============================] - 1s 2ms/step - loss: 0.3347 - accuracy: 0.8814 - val_loss: 0.2950 - val_accuracy: 0.8990\n",
      "Epoch 98/100\n",
      "250/250 [==============================] - 1s 2ms/step - loss: 0.3317 - accuracy: 0.8814 - val_loss: 0.3073 - val_accuracy: 0.8990\n",
      "Epoch 99/100\n",
      "250/250 [==============================] - 1s 2ms/step - loss: 0.3334 - accuracy: 0.8806 - val_loss: 0.2952 - val_accuracy: 0.8990\n",
      "Epoch 100/100\n",
      "250/250 [==============================] - 1s 2ms/step - loss: 0.3332 - accuracy: 0.8814 - val_loss: 0.2947 - val_accuracy: 0.8990\n"
     ]
    }
   ],
   "source": [
    "# Modeli eğitin ve eğitim geçmişini yakalayın\n",
    "history = model.fit(X_train, y_train, epochs=100, batch_size=10, verbose=1, validation_split=0.2)"
   ]
  },
  {
   "cell_type": "code",
   "execution_count": 34,
   "id": "f2847510",
   "metadata": {},
   "outputs": [
    {
     "name": "stdout",
     "output_type": "stream",
     "text": [
      "25/25 [==============================] - 0s 875us/step - loss: 0.3123 - accuracy: 0.8923\n",
      "Test Accuracy: 0.892307698726654\n"
     ]
    }
   ],
   "source": [
    "# Modeli test verileri üzerinden değerlendirin\n",
    "loss, accuracy = model.evaluate(X_test, y_test, verbose=1)\n",
    "print(f\"Test Accuracy: {accuracy}\")"
   ]
  },
  {
   "cell_type": "code",
   "execution_count": 35,
   "id": "f5e033d3",
   "metadata": {},
   "outputs": [
    {
     "data": {
      "text/plain": [
       "<Figure size 1200x500 with 0 Axes>"
      ]
     },
     "execution_count": 35,
     "metadata": {},
     "output_type": "execute_result"
    },
    {
     "data": {
      "text/plain": [
       "<Figure size 1200x500 with 0 Axes>"
      ]
     },
     "metadata": {},
     "output_type": "display_data"
    }
   ],
   "source": [
    "# Kayıp ve doğruluk geçmişini çizin\n",
    "plt.figure(figsize=(12, 5))"
   ]
  },
  {
   "cell_type": "code",
   "execution_count": 36,
   "id": "6bce233e",
   "metadata": {},
   "outputs": [
    {
     "data": {
      "text/plain": [
       "<matplotlib.legend.Legend at 0x19a387aa3d0>"
      ]
     },
     "execution_count": 36,
     "metadata": {},
     "output_type": "execute_result"
    },
    {
     "data": {
      "image/png": "[encoded data removed]",
      "text/plain": [
       "<Figure size 640x480 with 1 Axes>"
      ]
     },
     "metadata": {},
     "output_type": "display_data"
    }
   ],
   "source": [
    "# Kayıp planı\n",
    "plt.subplot(1, 2, 1)\n",
    "plt.plot(history.history['loss'], label='train_loss')\n",
    "plt.plot(history.history['val_loss'], label='val_loss')\n",
    "plt.title('Model Loss')\n",
    "plt.xlabel('Epochs')\n",
    "plt.ylabel('Loss')\n",
    "plt.legend()"
   ]
  },
  {
   "cell_type": "code",
   "execution_count": 37,
   "id": "e2046c87",
   "metadata": {},
   "outputs": [
    {
     "data": {
      "image/png": "[encoded data removed]",
      "text/plain": [
       "<Figure size 640x480 with 1 Axes>"
      ]
     },
     "metadata": {},
     "output_type": "display_data"
    }
   ],
   "source": [
    "# Doğruluk grafiği\n",
    "plt.subplot(1, 2, 2)\n",
    "plt.plot(history.history['accuracy'], label='train_accuracy')\n",
    "plt.plot(history.history['val_accuracy'], label='val_accuracy')\n",
    "plt.title('Model Accuracy')\n",
    "plt.xlabel('Epochs')\n",
    "plt.ylabel('Accuracy')\n",
    "plt.legend()\n",
    "\n",
    "plt.tight_layout()\n",
    "plt.show()"
   ]
  },
  {
   "cell_type": "code",
   "execution_count": 38,
   "id": "55efc6bf",
   "metadata": {},
   "outputs": [
    {
     "name": "stdout",
     "output_type": "stream",
     "text": [
      "25/25 [==============================] - 0s 792us/step\n"
     ]
    }
   ],
   "source": [
    "# Tahminlerde bulunun\n",
    "predictions = model.predict(X_test)\n",
    "predicted_classes = label_encoder.inverse_transform(predictions.argmax(axis=1))\n",
    "actual_classes = label_encoder.inverse_transform(y_test.argmax(axis=1))\n",
    "\n",
    "# Gerçek ve tahmin edilen değerlere sahip bir DataFrame oluşturun\n",
    "results_df = pd.DataFrame({\n",
    "    'Actual Class': actual_classes,\n",
    "    'Predicted Class': predicted_classes\n",
    "})"
   ]
  },
  {
   "cell_type": "code",
   "execution_count": 39,
   "id": "f5a06ee1",
   "metadata": {},
   "outputs": [
    {
     "name": "stdout",
     "output_type": "stream",
     "text": [
      "      Actual Class Predicted Class\n",
      "0       Non-smoker      Non-smoker\n",
      "1       Non-smoker      Non-smoker\n",
      "2       Non-smoker      Non-smoker\n",
      "3     Heavy smoker    Heavy smoker\n",
      "4  Moderate smoker    Heavy smoker\n"
     ]
    }
   ],
   "source": [
    "# İlk birkaç satırı görüntüle\n",
    "print(results_df.head())"
   ]
  },
  {
   "cell_type": "code",
   "execution_count": 40,
   "id": "85a02c12",
   "metadata": {},
   "outputs": [
    {
     "data": {
      "image/png": "[encoded data removed]",
      "text/plain": [
       "<Figure size 1200x500 with 1 Axes>"
      ]
     },
     "metadata": {},
     "output_type": "display_data"
    }
   ],
   "source": [
    "# Gerçek ve tahmin edilen sınıfların grafiğini çizin\n",
    "plt.figure(figsize=(12, 5))\n",
    "plt.scatter(actual_classes, predicted_classes, alpha=0.5)\n",
    "plt.title('Actual vs Predicted Smoking Categories')\n",
    "plt.xlabel('Actual Class')\n",
    "plt.ylabel('Predicted Class')\n",
    "plt.show()"
   ]
  }
 ],
 "metadata": {
  "kernelspec": {
   "display_name": "Python 3 (ipykernel)",
   "language": "python",
   "name": "python3"
  },
  "language_info": {
   "codemirror_mode": {
    "name": "ipython",
    "version": 3
   },
   "file_extension": ".py",
   "mimetype": "text/x-python",
   "name": "python",
   "nbconvert_exporter": "python",
   "pygments_lexer": "ipython3",
   "version": "3.11.5"
  }
 },
 "nbformat": 4,
 "nbformat_minor": 5
}
